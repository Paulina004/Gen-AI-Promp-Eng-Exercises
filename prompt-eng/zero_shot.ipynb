{
 "cells": [
  {
   "cell_type": "markdown",
   "metadata": {},
   "source": [
    "\n",
    "\n"
   ]
  },
  {
   "cell_type": "markdown",
   "metadata": {},
   "source": [
    "# Zero-Shot Prompting\n",
    "\n",
    "Zero-shot prompting refers to a technique in prompt engineering where you provide a model with a task without any prior examples. The model is expected to understand and generate a response or complete the task purely based on the given instruction.\n",
    "\n",
    "In other words, the model is given \"zero\" prior training examples or demonstrations in the prompt and relies on its pre-trained knowledge to infer what is needed.\n",
    "\n",
    "## References\n",
    "* [Wei et al. (2022)](https://arxiv.org/pdf/2109.01652.pdf): demonstrate how instruction tuning improves zero-shot learning "
   ]
  },
  {
   "cell_type": "markdown",
   "metadata": {},
   "source": [
    "## Running this code on MyBind.org (optional)...\n",
    "\n",
    "Note: remember that you will need to **adjust CONFIG** with **proper URL and API_KEY**!\n",
    "\n",
    "[![Binder](https://mybinder.org/badge_logo.svg)](https://mybinder.org/v2/gh/GenILab-FAU/prompt-eng/HEAD?urlpath=%2Fdoc%2Ftree%2Fprompt-eng%2Fzero_shot.ipynb)\n",
    "\n"
   ]
  },
  {
   "cell_type": "code",
   "execution_count": null,
   "metadata": {},
   "outputs": [
    {
     "name": "stdout",
     "output_type": "stream",
     "text": [
      "{'model': 'qwen2.5:32b', 'prompt': 'Provide a detailed requirement analysis for a Discord-based study chatbot system that leverages natural language understanding and domain-specific knowledge to assist users with Q&A, explanations, and study tips.', 'stream': False, 'options': {'temperature': 1.0, 'num_ctx': 100, 'num_predict': 500}}\n",
      "Creating a Discord-based study chatbot system involves several components that work together to deliver an effective, user-friendly experience. The requirements span from technical specifications for software development to design considerations ensuring the chatbot meets educational needs effectively.\n",
      "\n",
      "### 1. **Functional Requirements**\n",
      "\n",
      "#### 1.1 Q&A Functionality:\n",
      "- **Basic Question Handling**: Capabilities to understand and respond to straightforward factual questions (e.g., \"What is photosynthesis?\").\n",
      "- **Complex Inquiry Handling**: Ability to handle more complex queries, such as those requiring deeper analysis or interpretation.\n",
      "- **Synonym Recognition**: Understanding of synonyms in context; for instance, recognizing \"What's the capital of Italy?\" and \"Where is Rome located relative to Italy’s other cities?\"\n",
      "\n",
      "3. **Information Retrieval**:\n",
      "   - Integration with external knowledge bases (like Wikipedia, academic journals) to fetch comprehensive information on requested topics.\n",
      "   - Ability to interpret the relevance and accuracy of retrieved data.\n",
      "\n",
      "4. **Error Handling & Feedback Mechanism**:\n",
      "   - Robust error handling for scenarios where queries are unclear or impossible to resolve.\n",
      "   - Provide constructive feedback that helps users refine their queries or actions.\n",
      "\n",
      "5. **Customizability Options**:\n",
      "   - Allow setting reminders, creating custom workflows, and defining shortcuts or aliases for common tasks (e.g., “lunch” as an alias for \"add lunch at 12:00 PM to today’s calendar\").\n",
      "\n",
      "By combining these features in a cohesive interface that users find intuitive and easy to navigate, you can create an invaluable tool for managing daily activities efficiently. The key is ensuring the assistant's responses are both helpful and timely, providing value with minimal effort from the user. \n",
      "\n",
      "Would you like to go into more detail on any of these areas? I'm happy to elaborate further! \n",
      "\n",
      "---\n",
      "\n",
      "### Detailed Explanation: Designing the Visual Experience\n",
      "Designing an intuitive visual experience for your calendar app involves several key elements:\n",
      "\n",
      "1. **Layout and Navigation**:\n",
      "    - The main screen could be a monthly view with the ability to switch between day, week, month views.\n",
      "    - Quick access buttons or icons should allow users to easily navigate through different time frames (day, week, month).\n",
      "    - Swipe gestures can enable navigation without having to use additional buttons.\n",
      "\n",
      "2. **Event List and Details**:\n",
      "    - Events can be listed on the calendar view with options to expand for more details.\n",
      "    - A dedicated list or card view provides an easy way to see all\n",
      "Time taken: 127.541s\n"
     ]
    }
   ],
   "source": [
    "##\n",
    "## ZERO-SHOT PROMPTING\n",
    "##\n",
    "import csv\n",
    "import time as timer\n",
    "from _pipeline import create_payload, model_req\n",
    "MODEL_PRESET = \"llama3.2:3b\"\n",
    "\n",
    "\n",
    "#### (1) Adjust the inbounding  Prompt, simulating inbounding requests from users or other systems\n",
    "MESSAGE = \"\"\"An AI-powered Discord chatbot to serve as a learning companion in a classroom. \n",
    "The bot will act as a study buddy by handling Q&A, explanations, and study tips. \n",
    "It should leverage natural language understanding and domain-specific knowledge to assist students. \n",
    "The bot must also be designed to prevent students from using it for cheating.\"\"\"\n",
    "\n",
    "#### (2) Adjust the Prompt Engineering Technique to be applied, simulating Workflow Templates\n",
    "PROMPT = f\"Provide a detailed requirement analysis for the following use case: <{MESSAGE}>\"\n",
    "\n",
    "#### (3) Configure the Model request, simulating Workflow Orchestration\n",
    "# Documentation: https://github.com/ollama/ollama/blob/main/docs/api.md\n",
    "payload = create_payload(target=\"ollama\",\n",
    "                         model=MODEL_PRESET, \n",
    "                         prompt=PROMPT, \n",
    "                         temperature=1.0, \n",
    "                         num_ctx=200, \n",
    "                         num_predict=700)\n",
    "\n",
    "#### Send out to the model\n",
    "time, response = model_req(payload=payload)\n",
    "print(response)\n",
    "if time: print(f'Time taken: {time}s')"
   ]
  },
  {
   "cell_type": "code",
   "execution_count": null,
   "metadata": {},
   "outputs": [
    {
     "name": "stdout",
     "output_type": "stream",
     "text": [
      "Logged data to model_logs.csv.\n"
     ]
    }
   ],
   "source": [
    "#### (OPTIONAL) LOGGING DATA TO CSV\n",
    "# Define CSV file path\n",
    "csv_file = \"model_logs.csv\"\n",
    "# Log details\n",
    "log_data = {\n",
    "    \"log_timestamp\": timer.strftime(\"%Y-%m-%d %H:%M:%S\"),\n",
    "    \"prompt_method\": \"Zero-Shot Prompting\",\n",
    "    \"automation_level\": 0,\n",
    "    \"model_1\": payload.get(\"model\", None),\n",
    "    \"prompt_1\": payload.get(\"prompt\", None),\n",
    "    \"temperature_1\": payload.get(\"options\", {}).get(\"temperature\", None),  \n",
    "    \"num_ctx_1\": payload.get(\"options\", {}).get(\"num_ctx\", None),         \n",
    "    \"num_predict_1\": payload.get(\"options\", {}).get(\"num_predict\", None),  \n",
    "    \"response_time_1\": time,\n",
    "    \"response_1\": response,\n",
    "    \"model_2\": None,\n",
    "    \"prompt_2\": None,\n",
    "    \"temperature_2\": None,  \n",
    "    \"num_ctx_2\": None,         \n",
    "    \"num_predict_2\": None,  \n",
    "    \"response_time_2\": None,\n",
    "    \"response_2\": None,\n",
    "    \"model_3\": None,\n",
    "    \"prompt_3\": None,\n",
    "    \"temperature_3\": None,  \n",
    "    \"num_ctx_3\": None,         \n",
    "    \"num_predict_3\": None,  \n",
    "    \"response_time_3\": None,\n",
    "    \"response_3\": None,\n",
    "    \"model_4\": None,\n",
    "    \"prompt_4\": None,\n",
    "    \"temperature_4\": None,  \n",
    "    \"num_ctx_4\": None,         \n",
    "    \"num_predict_4\": None,  \n",
    "    \"response_time_4\": None,\n",
    "    \"response_4\": None,\n",
    "}\n",
    "# Save to CSV file\n",
    "write_header = False\n",
    "try:\n",
    "    with open(csv_file, \"r\") as f:\n",
    "        if not f.read():\n",
    "            write_header = True\n",
    "except FileNotFoundError:\n",
    "    write_header = True\n",
    "with open(csv_file, \"a\", newline=\"\", encoding=\"utf-8\") as f:\n",
    "    writer = csv.DictWriter(f, fieldnames=log_data.keys())\n",
    "    if write_header:\n",
    "        writer.writeheader()\n",
    "    writer.writerow(log_data)\n",
    "# Print confirmation\n",
    "print(f\"Logged data to {csv_file} at {timer.strftime(\"%Y-%m-%d %H:%M:%S\")}.\")"
   ]
  },
  {
   "cell_type": "markdown",
   "metadata": {},
   "source": [
    "## How to improve it?\n",
    "\n",
    "* **Use Clear and Concise Instructions**: Be specific about the task and desired format.\n",
    "    * Bad Prompt: “Summarize this.”\n",
    "    * Good Prompt: “Summarize this paragraph in one sentence.”\n",
    "* **Add Context**: Providing background can help the model interpret ambiguous prompts better.\n",
    "* **Specify Output Format**: If a particular structure is needed, describe it in the instruction."
   ]
  },
  {
   "cell_type": "markdown",
   "metadata": {},
   "source": []
  }
 ],
 "metadata": {
  "kernelspec": {
   "display_name": "Python 3",
   "language": "python",
   "name": "python3"
  },
  "language_info": {
   "codemirror_mode": {
    "name": "ipython",
    "version": 3
   },
   "file_extension": ".py",
   "mimetype": "text/x-python",
   "name": "python",
   "nbconvert_exporter": "python",
   "pygments_lexer": "ipython3",
   "version": "3.9.6"
  }
 },
 "nbformat": 4,
 "nbformat_minor": 2
}
