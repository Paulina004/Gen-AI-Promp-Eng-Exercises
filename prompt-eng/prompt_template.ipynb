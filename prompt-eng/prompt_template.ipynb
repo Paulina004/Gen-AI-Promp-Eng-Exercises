{
 "cells": [
  {
   "cell_type": "markdown",
   "metadata": {},
   "source": [
    "\n",
    "\n"
   ]
  },
  {
   "cell_type": "markdown",
   "metadata": {},
   "source": [
    "# Prompt Template Prompting\n",
    "\n",
    "Prompt Template Prompting refers to a technique where predefined templates are used to construct effective prompts that guide large language models (LLMs) to generate responses tailored to specific use cases. The templates typically contain static text combined with dynamic input variables, allowing for consistent, reusable, and customizable prompts.\n",
    "\n",
    "Prompt templates are widely used across various domains, such as:\n",
    "* **Question Generation**: Templates can generate quiz questions by filling in variables related to topics.\n",
    "* **Text Summarization**: Static instructions combined with variable documents or inputs allow flexible summarization.\n",
    "* **Coding Assistance**: Dynamic prompts help LLMs generate code snippets for different programming tasks.\n",
    "\n",
    "## References:\n",
    "\n",
    "* (OpenAI Documentation for Prompt Engineering)[https://platform.openai.com/docs/guides/prompt-engineering]"
   ]
  },
  {
   "cell_type": "markdown",
   "metadata": {},
   "source": [
    "## Running this code on MyBind.org\n",
    "\n",
    "Note: remember that you will need to **adjust CONFIG** with **proper URL and API_KEY**!\n",
    "\n",
    "[![Binder](https://mybinder.org/badge_logo.svg)](https://mybinder.org/v2/gh/GenILab-FAU/prompt-eng/HEAD?urlpath=%2Fdoc%2Ftree%2Fprompt-eng%2Fprompt_template.ipynb)\n"
   ]
  },
  {
   "cell_type": "code",
   "execution_count": null,
   "metadata": {},
   "outputs": [
    {
     "name": "stdout",
     "output_type": "stream",
     "text": [
      "{'model': 'qwen2.5:32b', 'prompt': 'Act like you are a software engineer.\\nProvide a detailed requirement analysis for a Discord-based study chatbot system that leverages natural language understanding and domain-specific knowledge to assist users with Q&A, explanations, and study tips.\\n\"Fill in the following template for a requirement analysis:\\n    Objective: [Define the system’s purpose]\\n    Key Functionalities: [List main features]\\n    User Interaction: [Describe how users engage]\\n    Integration Requirements: [Mention APIs, databases, or external tools]\\n    Limitations & Challenges: [Highlight potential issues]\\nEnsure the template is completed fully.', 'stream': False, 'options': {'temperature': 1.0, 'num_ctx': 100, 'num_predict': 500}}\n",
      "Sure, let's create a comprehensive example based on a fictitious project: an online educational platform that offers courses and provides certificates upon completion.\n",
      "\n",
      "### Project Overview: Online Educational Platform\n",
      "\n",
      "#### 1. User Interaction:\n",
      "The platform allows users to browse through various courses (e.g., programming, language learning), enroll in them by paying the required fee or signing up for free trials where applicable. Users can track their progress, take quizzes, and participate in discussion forums with other learners. Upon completion of a course, they receive a certificate or badge indicating mastery.\n",
      "\n",
      "For instructors, CourseCraft allows creating courses from scratch using templates, adding multimedia content like videos, images, PDFs, setting up lesson structures (e.g., modules divided into lessons), managing students enrolled in their courses through an instructor dashboard where they can monitor progress, provide feedback via comments on assignments, and manage course settings. Instructors have full control over the structure of their courses, including adding or removing sections, adjusting access permissions for different user roles, and customizing the appearance of their course pages.\n",
      "\n",
      "### 4. Interactive Features\n",
      "LMS platforms typically incorporate a range of interactive features designed to engage users and foster collaborative learning environments. These include discussion forums where learners can interact with each other and instructors, messaging systems for private communication, and group projects or assignments that promote teamwork and peer collaboration. Additionally, many LMS platforms support real-time interaction through live webinars and video conferencing tools.\n",
      "\n",
      "3. Customization: To cater to diverse organizational needs and preferences, Learning Management Systems offer customization options. Administrators can personalize the system by configuring settings such as branding elements (e.g., logos), user roles and permissions, and course structures. Moreover, LMS platforms often support integrations with other applications through APIs or plugins, enabling seamless data exchange between systems.\n",
      "\n",
      "4. Analytics and Reporting: Effective tracking of learner progress is crucial for organizations aiming to gauge the success of their training initiatives. Modern LMS tools provide robust analytics capabilities that enable administrators to monitor individual learners' performance across various dimensions such as completion rates, test scores, engagement levels, etc. Additionally, customizable reports can be generated based on specific criteria, offering valuable insights into overall program effectiveness and areas requiring improvement.\n",
      "\n",
      "2. Adaptive Learning Pathways\n",
      "Adaptive learning pathways leverage artificial intelligence (AI) algorithms to personalize the learning experience for each user according to their unique needs and preferences. By continuously analyzing data points such as time spent on tasks, completion rates, test scores, etc.,\n",
      "Time taken: 128.479s\n"
     ]
    }
   ],
   "source": [
    "##\n",
    "## PROMPT TEMPLATE PROMPTING\n",
    "##\n",
    "import csv\n",
    "import time as timer\n",
    "from _pipeline import create_payload, model_req\n",
    "MODEL_PRESET = \"llama3.2:3b\"\n",
    "\n",
    "\n",
    "#### (1) Adjust the inbounding  Prompt, simulating inbounding requests from users or other systems\n",
    "MESSAGE = \"\"\"An AI-powered Discord chatbot to serve as a learning companion in a classroom. \n",
    "The bot will act as a study buddy by handling Q&A, explanations, and study tips. \n",
    "It should leverage natural language understanding and domain-specific knowledge to assist students. \n",
    "The bot must also be designed to prevent students from using it for cheating.\"\"\"\n",
    "\n",
    "#### (2) Adjust the Prompt Engineering Technique to be applied, simulating Workflow Templates\n",
    "TEMPLATE_BEFORE=\"Act like you are a software engineer. Provide a detailed requirement analysis for the following use case...\"\n",
    "TEMPLATE_AFTER=\"\"\"\"Your requirement analysis should adhere to the following structure:\n",
    "    Objective: [Define the system’s purpose]\n",
    "    Key Functionalities: [List main features]\n",
    "    User Interaction: [Describe how users engage]\n",
    "    Integration Requirements: [Mention APIs, databases, or external tools]\n",
    "    Limitations & Challenges: [Highlight potential issues]\n",
    "Ensure you fill in the areas surrounded by brackets with relevant information.\"\"\"\n",
    "PROMPT = TEMPLATE_BEFORE + '\\n<' + MESSAGE + '>\\n\\n' + TEMPLATE_AFTER\n",
    "\n",
    "#### (3) Configure the Model request, simulating Workflow Orchestration\n",
    "# Documentation: https://github.com/ollama/ollama/blob/main/docs/api.md\n",
    "payload = create_payload(target=\"ollama\",\n",
    "                         model=MODEL_PRESET, \n",
    "                         prompt=PROMPT, \n",
    "                         temperature=1.0, \n",
    "                         num_ctx=300, \n",
    "                         num_predict=700)\n",
    "\n",
    "### YOU DONT NEED TO CONFIGURE ANYTHING ELSE FROM THIS POINT\n",
    "# Send out to the model\n",
    "time, response = model_req(payload=payload)\n",
    "print(response)\n",
    "if time: print(f'Time taken: {time}s')"
   ]
  },
  {
   "cell_type": "code",
   "execution_count": null,
   "metadata": {},
   "outputs": [
    {
     "name": "stdout",
     "output_type": "stream",
     "text": [
      "Logged data to model_logs.csv.\n"
     ]
    }
   ],
   "source": [
    "#### (OPTIONAL) LOGGING DATA TO CSV\n",
    "# Define CSV file path\n",
    "csv_file = \"model_logs.csv\"\n",
    "# Log details\n",
    "log_data = {\n",
    "    \"log_timestamp\": timer.strftime(\"%Y-%m-%d %H:%M:%S\"),\n",
    "    \"prompt_method\": \"Prompt Template Prompting\",\n",
    "    \"automation_level\": 0,\n",
    "    \"model_1\": payload.get(\"model\", None),\n",
    "    \"prompt_1\": payload.get(\"prompt\", None),\n",
    "    \"temperature_1\": payload.get(\"options\", {}).get(\"temperature\", None),  \n",
    "    \"num_ctx_1\": payload.get(\"options\", {}).get(\"num_ctx\", None),         \n",
    "    \"num_predict_1\": payload.get(\"options\", {}).get(\"num_predict\", None),  \n",
    "    \"response_time_1\": time,\n",
    "    \"response_1\": response,\n",
    "    \"model_2\": None,\n",
    "    \"prompt_2\": None,\n",
    "    \"temperature_2\": None,  \n",
    "    \"num_ctx_2\": None,         \n",
    "    \"num_predict_2\": None,  \n",
    "    \"response_time_2\": None,\n",
    "    \"response_2\": None,\n",
    "    \"model_3\": None,\n",
    "    \"prompt_3\": None,\n",
    "    \"temperature_3\": None,  \n",
    "    \"num_ctx_3\": None,         \n",
    "    \"num_predict_3\": None,  \n",
    "    \"response_time_3\": None,\n",
    "    \"response_3\": None,\n",
    "    \"model_4\": None,\n",
    "    \"prompt_4\": None,\n",
    "    \"temperature_4\": None,  \n",
    "    \"num_ctx_4\": None,         \n",
    "    \"num_predict_4\": None,  \n",
    "    \"response_time_4\": None,\n",
    "    \"response_4\": None,\n",
    "}\n",
    "# Save to CSV file\n",
    "write_header = False\n",
    "try:\n",
    "    with open(csv_file, \"r\") as f:\n",
    "        if not f.read():\n",
    "            write_header = True\n",
    "except FileNotFoundError:\n",
    "    write_header = True\n",
    "with open(csv_file, \"a\", newline=\"\", encoding=\"utf-8\") as f:\n",
    "    writer = csv.DictWriter(f, fieldnames=log_data.keys())\n",
    "    if write_header:\n",
    "        writer.writeheader()\n",
    "    writer.writerow(log_data)\n",
    "# Print confirmation\n",
    "print(f\"Logged data to {csv_file} at {timer.strftime(\"%Y-%m-%d %H:%M:%S\")}.\")"
   ]
  }
 ],
 "metadata": {
  "kernelspec": {
   "display_name": "Python 3",
   "language": "python",
   "name": "python3"
  },
  "language_info": {
   "codemirror_mode": {
    "name": "ipython",
    "version": 3
   },
   "file_extension": ".py",
   "mimetype": "text/x-python",
   "name": "python",
   "nbconvert_exporter": "python",
   "pygments_lexer": "ipython3",
   "version": "3.9.6"
  }
 },
 "nbformat": 4,
 "nbformat_minor": 2
}
