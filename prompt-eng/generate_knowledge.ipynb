{
 "cells": [
  {
   "cell_type": "markdown",
   "metadata": {},
   "source": [
    "\n",
    "\n"
   ]
  },
  {
   "cell_type": "markdown",
   "metadata": {},
   "source": [
    "# Generate Knowledge Prompting\n",
    "\n",
    "Generate knowledge prompting first asks the model to create relevant background knowledge before using that information to answer a question.\n"
   ]
  },
  {
   "cell_type": "markdown",
   "metadata": {},
   "source": [
    "## Running this code on MyBind.org\n",
    "\n",
    "Note: remember that you will need to **adjust CONFIG** with **proper URL and API_KEY**!\n",
    "\n",
    "[![Binder](https://mybinder.org/badge_logo.svg)](https://mybinder.org/v2/gh/GenILab-FAU/prompt-eng/HEAD?urlpath=%2Fdoc%2Ftree%2Fprompt-eng%2Fzero_shot.ipynb)\n",
    "\n"
   ]
  },
  {
   "cell_type": "code",
   "execution_count": null,
   "metadata": {},
   "outputs": [],
   "source": [
    "##\n",
    "## GENERATE KNOWLEDGE PROMPTING\n",
    "##\n",
    "import csv\n",
    "import time as timer\n",
    "from _pipeline import create_payload, model_req\n",
    "MODEL_PRESET = \"llama3.2:3b\"\n",
    "\n",
    "\n",
    "#### (1) Adjust the inbounding  Prompt, simulating inbounding requests from users or other systems\n",
    "MESSAGE = \"\"\"An AI-powered Discord chatbot to serve as a learning companion in a classroom. \n",
    "The bot will act as a study buddy by handling Q&A, explanations, and study tips. \n",
    "It should leverage natural language understanding and domain-specific knowledge to assist students. \n",
    "The bot must also be designed to prevent students from using it for cheating.\"\"\"\n",
    "\n",
    "#### (2) Adjust the Prompt Engineering Technique to be applied, simulating Workflow Templates\n",
    "GEN_KNOWLEDGE = f\"\"\"\n",
    "Before performing a requirement analysis, generate an outline of typical functional, non-functional, and user requirements for AI-driven educational chatbots. \n",
    "Include insights on natural language understanding, user engagement techniques, study aid functionalities, and chatbot limitations.\n",
    "Once the outline is created, use it to generate a detailed requirement analysis for the following use case: <{MESSAGE}>\n",
    "\"\"\"\n",
    "PROMPT = MESSAGE \n",
    "\n",
    "#### (3) Configure the Model request, simulating Workflow Orchestration\n",
    "# Documentation: https://github.com/ollama/ollama/blob/main/docs/api.md\n",
    "payload = create_payload(target=\"ollama\",\n",
    "                         model=MODEL_PRESET, \n",
    "                         prompt=PROMPT, \n",
    "                         temperature=1.0, \n",
    "                         num_ctx=300, \n",
    "                         num_predict=700)\n",
    "\n",
    "### YOU DONT NEED TO CONFIGURE ANYTHING ELSE FROM THIS POINT\n",
    "# Send out to the model\n",
    "time, response = model_req(payload=payload)\n",
    "print(response)\n",
    "if time: print(f'Time taken: {time}s')"
   ]
  },
  {
   "cell_type": "code",
   "execution_count": null,
   "metadata": {},
   "outputs": [],
   "source": [
    "#### (OPTIONAL) LOGGING DATA TO CSV\n",
    "# Define CSV file path\n",
    "csv_file = \"model_logs.csv\"\n",
    "# Log details\n",
    "log_data = {\n",
    "    \"log_timestamp\": timer.strftime(\"%Y-%m-%d %H:%M:%S\"),\n",
    "    \"prompt_method\": \"Generate Knowledge Prompting\",\n",
    "    \"automation_level\": 0,\n",
    "    \"model_1\": payload.get(\"model\", None),\n",
    "    \"prompt_1\": payload.get(\"prompt\", None),\n",
    "    \"temperature_1\": payload.get(\"options\", {}).get(\"temperature\", None),  \n",
    "    \"num_ctx_1\": payload.get(\"options\", {}).get(\"num_ctx\", None),         \n",
    "    \"num_predict_1\": payload.get(\"options\", {}).get(\"num_predict\", None),  \n",
    "    \"response_time_1\": time,\n",
    "    \"response_1\": response,\n",
    "    \"model_2\": None,\n",
    "    \"prompt_2\": None,\n",
    "    \"temperature_2\": None,  \n",
    "    \"num_ctx_2\": None,         \n",
    "    \"num_predict_2\": None,  \n",
    "    \"response_time_2\": None,\n",
    "    \"response_2\": None,\n",
    "    \"model_3\": None,\n",
    "    \"prompt_3\": None,\n",
    "    \"temperature_3\": None,  \n",
    "    \"num_ctx_3\": None,         \n",
    "    \"num_predict_3\": None,  \n",
    "    \"response_time_3\": None,\n",
    "    \"response_3\": None,\n",
    "    \"model_4\": None,\n",
    "    \"prompt_4\": None,\n",
    "    \"temperature_4\": None,  \n",
    "    \"num_ctx_4\": None,         \n",
    "    \"num_predict_4\": None,  \n",
    "    \"response_time_4\": None,\n",
    "    \"response_4\": None,\n",
    "}\n",
    "# Save to CSV file\n",
    "write_header = False\n",
    "try:\n",
    "    with open(csv_file, \"r\") as f:\n",
    "        if not f.read():\n",
    "            write_header = True\n",
    "except FileNotFoundError:\n",
    "    write_header = True\n",
    "with open(csv_file, \"a\", newline=\"\", encoding=\"utf-8\") as f:\n",
    "    writer = csv.DictWriter(f, fieldnames=log_data.keys())\n",
    "    if write_header:\n",
    "        writer.writeheader()\n",
    "    writer.writerow(log_data)\n",
    "# Print confirmation\n",
    "print(f\"Logged data to {csv_file}.\")"
   ]
  }
 ],
 "metadata": {
  "kernelspec": {
   "display_name": "Python 3",
   "language": "python",
   "name": "python3"
  },
  "language_info": {
   "codemirror_mode": {
    "name": "ipython",
    "version": 3
   },
   "file_extension": ".py",
   "mimetype": "text/x-python",
   "name": "python",
   "nbconvert_exporter": "python",
   "pygments_lexer": "ipython3",
   "version": "3.13.1"
  }
 },
 "nbformat": 4,
 "nbformat_minor": 2
}
